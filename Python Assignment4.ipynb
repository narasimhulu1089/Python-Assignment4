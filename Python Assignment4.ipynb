{
 "cells": [
  {
   "cell_type": "markdown",
   "metadata": {},
   "source": [
    "#### 1.1 Write a Python Program(with class concepts) to find the area of the triangle using the below\n",
    "formula.\n",
    "\n",
    " Function to take the length of the sides of triangle from user should be defined in the parent class and function to calculate the area should be defined in subclass.\n",
    "### area = (s*(s-a)*(s-b)*(s-c)) ** 0.5\n",
    "\n",
    "#### a,b,c are lengths\n",
    "#### s=1/2(a+b+c)"
   ]
  },
  {
   "cell_type": "code",
   "execution_count": 49,
   "metadata": {},
   "outputs": [
    {
     "name": "stdout",
     "output_type": "stream",
     "text": [
      "Enter the value of the first side:23\n",
      "Enter the value of the second side:23\n",
      "Enter the value of the third side:20\n",
      "\n",
      "The area of Triangle is : 21450.0\n"
     ]
    }
   ],
   "source": [
    "a = int(input(\"Enter the value of the first side:\"))\n",
    "b = int(input(\"Enter the value of the second side:\"))\n",
    "c = int(input(\"Enter the value of the third side:\"))\n",
    "print()\n",
    "class Triangle:# Parent Class\n",
    "    \n",
    "    def m1(self,a,b,c):#Function to take the length of the sides of triangle\n",
    "        self.a=a\n",
    "        self.b=b\n",
    "        self.c=c\n",
    "class Area(Triangle):# Child Class\n",
    "    def m2(self): #Function to calculate the area\n",
    "        s=0.5*(self.a+self.b+self.c)\n",
    "        area=(s*(s-self.a)*(s-self.b)*(s-self.c))*0.5\n",
    "        print(\"The area of Triangle is :\",area)\n",
    "\n",
    "# Creating a object fpr Child class\n",
    "\n",
    "obj=Area()\n",
    "obj.m1(a,b,c)# Calling m1\n",
    "obj.m2()# Calling m2\n",
    "                  \n",
    "\n",
    "    "
   ]
  },
  {
   "cell_type": "markdown",
   "metadata": {},
   "source": [
    "#### 1.2 Write a function filter_long_words() that takes a list of words and an integer n and returns the list of words that are longer than n."
   ]
  },
  {
   "cell_type": "code",
   "execution_count": 75,
   "metadata": {},
   "outputs": [
    {
     "name": "stdout",
     "output_type": "stream",
     "text": [
      "Enter a list of words :[\"Python\",\"Machine Learning\",\"Deep Learning\",\"Natural Language Processing\"]\n",
      "Enter the length of a word :10\n",
      "['Machine Learning', 'Deep Learning', 'Natural Language Processing']\n"
     ]
    }
   ],
   "source": [
    "list=eval(input((\"Enter a list of words :\")))# Ex:[\"Python\",\"Machine Learning\",\"Deep Learning\",\"Natural Language Processing\"]\n",
    "\n",
    "n=int(input(\"Enter the length of a word :\"))\n",
    "\n",
    "list1=[]# list to append the words >n\n",
    "def filter_long_words(l,n):\n",
    "    for i in range(len(l)):\n",
    "        if len(l[i])>n:#Compares the length of each word in the list with n\n",
    "            list1.append(l[i])#Appends the words >n\n",
    "\n",
    "filter_long_words(list,n)# Calling the function\n",
    "print(list1)\n",
    "        \n",
    "   \n",
    "    "
   ]
  },
  {
   "cell_type": "markdown",
   "metadata": {},
   "source": [
    "#### 2.1 Write a Python program using function concept that maps list of words into a list of integers\n",
    "#### representing the lengths of the corresponding words.\n",
    "#### Hint: If a list [ ab,cde,erty] is passed on to the python function output should come as [2,3,4]\n",
    "#### Here 2,3 and 4 are the lengths of the words in the list."
   ]
  },
  {
   "cell_type": "code",
   "execution_count": 84,
   "metadata": {},
   "outputs": [
    {
     "name": "stdout",
     "output_type": "stream",
     "text": [
      "Enter a list of words :[\"Python\",\"Machine Learning\",\"Deep Learning\",\"Natural Language Processing\"]\n",
      "\n",
      "The Length of Words : [6, 16, 13, 27]\n"
     ]
    }
   ],
   "source": [
    "list=eval(input((\"Enter a list of words :\")))# Ex:[\"Python\",\"Machine Learning\",\"Deep Learning\",\"Natural Language Processing\"]\n",
    "\n",
    "length=[]# list to append the length of words\n",
    "def Length_Of_Words(l):\n",
    "    for i in range(len(l)):\n",
    "        length.append(len(l[i]))#Appends the length of words\n",
    "    \n",
    "Length_Of_Words(list)# Calling the function\n",
    "print()\n",
    "print(\"The Length of Words :\",length)\n",
    "        \n",
    "   \n",
    "    "
   ]
  },
  {
   "cell_type": "markdown",
   "metadata": {},
   "source": [
    "#### 2.2 Write a Python function which takes a character (i.e. a string of length 1) and returns True if\n",
    "#### it is a vowel, False otherwise."
   ]
  },
  {
   "cell_type": "code",
   "execution_count": 99,
   "metadata": {},
   "outputs": [
    {
     "name": "stdout",
     "output_type": "stream",
     "text": [
      "Enter a Character :e\n"
     ]
    },
    {
     "data": {
      "text/plain": [
       "True"
      ]
     },
     "execution_count": 99,
     "metadata": {},
     "output_type": "execute_result"
    }
   ],
   "source": [
    "character=input(\"Enter a Character :\")\n",
    "vowels=['a','e','i','o','u','A','E','I','O','U']\n",
    "\n",
    "def vowel(letter):\n",
    "    if letter in vowels:\n",
    "        return True\n",
    "    else:\n",
    "        return False\n",
    "\n",
    "vowel(character)#Calling the function\n"
   ]
  }
 ],
 "metadata": {
  "kernelspec": {
   "display_name": "Python 3",
   "language": "python",
   "name": "python3"
  },
  "language_info": {
   "codemirror_mode": {
    "name": "ipython",
    "version": 3
   },
   "file_extension": ".py",
   "mimetype": "text/x-python",
   "name": "python",
   "nbconvert_exporter": "python",
   "pygments_lexer": "ipython3",
   "version": "3.7.3"
  }
 },
 "nbformat": 4,
 "nbformat_minor": 2
}
